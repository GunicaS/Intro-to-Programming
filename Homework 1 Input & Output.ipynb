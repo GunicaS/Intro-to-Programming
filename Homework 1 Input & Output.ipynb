{
 "cells": [
  {
   "cell_type": "markdown",
   "id": "b508b563",
   "metadata": {},
   "source": [
    "# Homework 1"
   ]
  },
  {
   "cell_type": "code",
   "execution_count": 1,
   "id": "56a6b437",
   "metadata": {},
   "outputs": [
    {
     "name": "stdout",
     "output_type": "stream",
     "text": [
      "BMI: 3.1244444444444444\n"
     ]
    }
   ],
   "source": [
    "# This program takes your height and weight and converts it to your bmi\n",
    "height = float(input(\"Enter height in inches:\")) #converted to float rather than integer because user input can include a decimal\n",
    "weight = float(input (\"Enter weight in pounds:\"))\n",
    "bmi = ((weight/(height*height))* 703) #formula for bmi\n",
    "print (\"BMI:\" , str(bmi)) # converted bmi to str to so it prints with + sign"
   ]
  },
  {
   "cell_type": "code",
   "execution_count": null,
   "id": "18aad0e3",
   "metadata": {},
   "outputs": [],
   "source": [
    "# This program converts celcius to fahrenheit\n",
    "celsius = 32 #defined celcius \n",
    "fahrenheit = (celsius * (9 / 5))+32 #converted \n",
    "print(celsius, \"Celsius is\", fahrenheit, \"Fahrenheit.\") #printed the answer"
   ]
  },
  {
   "cell_type": "code",
   "execution_count": null,
   "id": "004bf0f8",
   "metadata": {},
   "outputs": [],
   "source": [
    "# This program takes the radius of a circle and prints out the diameter, circumfrence, and area\n",
    "radius = float(input (\"Enter radius:\")) #convert input to a float so can be multiplied by pi\n",
    "pi = 3.14159\n",
    "diameter = ((radius * 2.0)) #converted radius to diameter \n",
    "circumfrence = ((2.0*pi*radius)) \n",
    "area = (pi*(radius*radius))\n",
    "\n",
    "print (\"Diameter\" ,diameter) #printed answers out\n",
    "print (\"Circumference\" ,circumfrence)\n",
    "print (\"Area\", area)"
   ]
  },
  {
   "cell_type": "code",
   "execution_count": null,
   "id": "9270b91f",
   "metadata": {},
   "outputs": [],
   "source": [
    "\n",
    "# This program converts a character to its integer value in python then converts that to binary\n",
    "\n",
    "chara = input (\"Enter a character:\") #This is the input for the character\n",
    "num = ord (chara) #this converts that character to its integer form in python\n",
    "binary = bin (num)#this takes that integer form and converts it to binary\n",
    "\n",
    "print (chara, \"corresponds to the integer\", num , \"which is\" , binary , \"in binary.\")"
   ]
  },
  {
   "cell_type": "code",
   "execution_count": null,
   "id": "b8e3913b",
   "metadata": {},
   "outputs": [],
   "source": [
    "# This program divides two numbers and works out the remainder in a user friendly way\n",
    "number = int(input (\"Enter a number:\")) # make the inputs int because the next operators only work with integers\n",
    "divisor = int(input (\"Enter a number to divide that by:\"))\n",
    "answer = (number // divisor) # use floor operator it works because both variables are integers\n",
    "remainder = (number % divisor) # use modulus operator to divide both int variables\n",
    "print (number ,\"divided by\", divisor , \"is\" , answer , \"with\" , remainder , \"remaining\") #print and put everything together"
   ]
  },
  {
   "cell_type": "code",
   "execution_count": null,
   "id": "b81b91f7",
   "metadata": {},
   "outputs": [],
   "source": [
    "# This program converts fahrenheit to celcius \n",
    "fahrenheit = 32 #defined fahrenheit\n",
    "celsius = (fahrenheit - 32.0) * (5 / 9) #converted  celsius to fahrenheit\n",
    "print(fahrenheit, \"Fahrenheit is\", celsius, \"Celsius.\") #printed the answers"
   ]
  },
  {
   "cell_type": "code",
   "execution_count": null,
   "id": "5984aa35",
   "metadata": {},
   "outputs": [],
   "source": [
    "# This program takes your age and gives you the max heart rate you can have along with the target heart rate\n",
    "age = int(input (\"Enter your age:\")) # converted age to int because the user will input an integer\n",
    "maxi = (220 - age)\n",
    "fivtarget = (maxi*0.5) #calculated 50% of target heart rate\n",
    "etarget = (maxi*0.85)#calculated 85% of target heart rate\n",
    "\n",
    "print (\"Your maximum heart rate is \" + str(maxi) + \" bpm\") #converted everything to strings for the print function\n",
    "print (\"Your target heart rate is \" + str(fivtarget) + \" - \" + str(etarget) + \" bpm\")"
   ]
  },
  {
   "cell_type": "code",
   "execution_count": null,
   "id": "d727088d",
   "metadata": {},
   "outputs": [],
   "source": [
    "\n",
    "# This program takes your name and says hi back to you\n",
    "name = input(\"What's your name?\") #name input\n",
    "print(\"Hi\" , name) #printed"
   ]
  },
  {
   "cell_type": "code",
   "execution_count": null,
   "id": "f3618213",
   "metadata": {},
   "outputs": [],
   "source": [
    "#This code takes the cost of a car including gas and resale value and calculates the 5 year cost of the car\n",
    "cost = float(input (\"Cost of car:\")) #cost of car\n",
    "miles = float(input (\"Miles driven per year:\")) #miles driven per year\n",
    "gas = float(input (\"Cost of gas:\")) #gas\n",
    "fuelef = float(input (\"Fuel efficiency (mpg):\")) #fuel efficiency\n",
    "resale = float(input (\"Estimated resale value after 5 years:\")) #resale\n",
    "\n",
    "fivgas = (miles/fuelef*5.0*gas) #to calculate the 5 year gas cost you divide the miles per year by the fuel eff and then multiply that by the cost per gallon and then by 5 for the years \n",
    "fivecarcost = (cost - resale) #five year car cost\n",
    "\n",
    "totalcost = (fivgas + fivecarcost) #total car cost\n",
    "\n",
    "print (\"Five year gas cost:\", fivgas)\n",
    "print (\"Five year car cost:\", fivecarcost)\n",
    "print (\"Five year total cost:\", totalcost)"
   ]
  },
  {
   "cell_type": "code",
   "execution_count": null,
   "id": "b22288bd",
   "metadata": {},
   "outputs": [],
   "source": [
    "# This program converts different inputs in certain categories and uses them to write a story\n",
    "adjective = input (\"Enter an adjective:\") #took all inputs\n",
    "noun = input (\"Enter a noun:\")\n",
    "pnoun = input (\"Enter a plural noun:\")\n",
    "place = input (\"Enter a place:\")\n",
    "body = input (\"Enter a part of the body:\")\n",
    "\n",
    "print (\"\\nThere are many \" + adjective + \" ways to choose a \" + noun + \" to read.\") #gave a \\n so that there is a space present between the print paragraph and the input areas\n",
    "print (\"You could ask recommendations from your friends and \" + pnoun + \".\")\n",
    "print (\"If they are no help, head to your local library or \" + place + \" and browse the shelves\")\n",
    "print (\"until something catches your \" + body + \".\")"
   ]
  },
  {
   "cell_type": "code",
   "execution_count": null,
   "id": "3a0d2be8",
   "metadata": {},
   "outputs": [],
   "source": [
    "# This program is a paint can calculator.\n",
    "# This converts the dimensions of the room into how many paint cans are needed\n",
    "print (\"Paint coverage estimator\")\n",
    "lenght = int(input(\"Length of room in inches:\"))\n",
    "width = int(input(\"Width of room in inches:\"))\n",
    "height = int(input(\"Average height of room in inches:\"))\n",
    "\n",
    "area1 = (lenght)/12 #divided all input values by 12 since units are in feet for the paint can\n",
    "area2 = (height)/12\n",
    "area3 = (width)/12\n",
    "\n",
    "tarea = (2*(area1*area2) + 2*(area2*area3))#found the total area needed to be painted by considering the 4 sides of the room and multiplying\n",
    "\n",
    "cans = (tarea//100) #divide area by 100 since paint can coverts 100 ft\n",
    "total = int(cans + 1) #changed total cans to int because whole number wanted\n",
    "\n",
    "print (\"You'll want\" , total , \"cans.\")\n"
   ]
  }
 ],
 "metadata": {
  "kernelspec": {
   "display_name": "Python 3",
   "language": "python",
   "name": "python3"
  },
  "language_info": {
   "codemirror_mode": {
    "name": "ipython",
    "version": 3
   },
   "file_extension": ".py",
   "mimetype": "text/x-python",
   "name": "python",
   "nbconvert_exporter": "python",
   "pygments_lexer": "ipython3",
   "version": "3.11.5"
  }
 },
 "nbformat": 4,
 "nbformat_minor": 5
}
