{
 "cells": [
  {
   "cell_type": "markdown",
   "id": "b508b563",
   "metadata": {},
   "source": [
    "# Homework 1"
   ]
  },
  {
   "cell_type": "code",
   "execution_count": 1,
   "id": "56a6b437",
   "metadata": {},
   "outputs": [
    {
     "name": "stdout",
     "output_type": "stream",
     "text": [
      "BMI: 3.1244444444444444\n"
     ]
    }
   ],
   "source": [
    "# This program takes your height and weight and converts it to your bmi\n",
    "height = float(input(\"Enter height in inches:\")) #converted to float rather than integer because user input can include a decimal\n",
    "weight = float(input (\"Enter weight in pounds:\"))\n",
    "bmi = ((weight/(height*height))* 703) #formula for bmi\n",
    "print (\"BMI:\" , str(bmi)) # converted bmi to str to so it prints with + sign"
   ]
  }
 ],
 "metadata": {
  "kernelspec": {
   "display_name": "Python 3",
   "language": "python",
   "name": "python3"
  },
  "language_info": {
   "codemirror_mode": {
    "name": "ipython",
    "version": 3
   },
   "file_extension": ".py",
   "mimetype": "text/x-python",
   "name": "python",
   "nbconvert_exporter": "python",
   "pygments_lexer": "ipython3",
   "version": "3.11.5"
  }
 },
 "nbformat": 4,
 "nbformat_minor": 5
}
